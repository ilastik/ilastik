{
 "cells": [
  {
   "cell_type": "markdown",
   "id": "manufactured-internship",
   "metadata": {},
   "source": [
    "## Example: How to use the ilastik Python API for Pixel Classification\n",
    "\n",
    "The first version of the ilastik API allows you to predict your data with a previously trained ilastik project directly from Python.\n",
    "\n",
    "Used data courtesy of the Gerlich Lab"
   ]
  },
  {
   "cell_type": "code",
   "execution_count": null,
   "id": "offshore-formation",
   "metadata": {},
   "outputs": [],
   "source": [
    "from ilastik.experimental.api import PixelClassificationPipeline\n",
    "import numpy\n",
    "from xarray import DataArray\n",
    "# Add your imports here, e.g. for loading and preprocessing data\n",
    "import imageio.v3 as iio\n",
    "from matplotlib import pyplot as plt"
   ]
  },
  {
   "cell_type": "code",
   "execution_count": null,
   "id": "hispanic-choice",
   "metadata": {},
   "outputs": [],
   "source": [
    "project_file = \"pc.ilp\"\n",
    "pipeline = PixelClassificationPipeline.from_ilp_file(project_file)"
   ]
  },
  {
   "cell_type": "code",
   "execution_count": null,
   "id": "roman-reply",
   "metadata": {},
   "outputs": [],
   "source": [
    "# load the image you would like to process and wrap it in an xarray.DataArray,\n",
    "# providing the appropriate dimension names\n",
    "image = DataArray(iio.imread(\"2d_cells_apoptotic_1channel.png\"), dims=(\"y\", \"x\"))\n",
    "prediction = pipeline.get_probabilities(image)\n",
    "# show the foreground channel:\n",
    "plt.imshow(prediction[..., 0])\n",
    "import imageio\n",
    "imageio.write(\"output_prediction.tif\", (prediction[..., 0] * 255).astype(\"uint8\"))"
   ]
  }
 ],
 "metadata": {
  "kernelspec": {
   "display_name": "Python 3",
   "language": "python",
   "name": "python3"
  },
  "language_info": {
   "codemirror_mode": {
    "name": "ipython",
    "version": 3
   },
   "file_extension": ".py",
   "mimetype": "text/x-python",
   "name": "python",
   "nbconvert_exporter": "python",
   "pygments_lexer": "ipython3",
   "version": "3.13.1"
  }
 },
 "nbformat": 4,
 "nbformat_minor": 5
}
